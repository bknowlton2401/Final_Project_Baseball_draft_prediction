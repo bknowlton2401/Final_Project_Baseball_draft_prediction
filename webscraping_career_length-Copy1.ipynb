{
 "cells": [
  {
   "cell_type": "code",
   "execution_count": 1,
   "id": "7281b5c8",
   "metadata": {},
   "outputs": [],
   "source": [
    "from splinter import Browser\n",
    "from bs4 import BeautifulSoup as soup\n",
    "from webdriver_manager.chrome import ChromeDriverManager\n",
    "import pandas as pd"
   ]
  },
  {
   "cell_type": "code",
   "execution_count": 2,
   "id": "67b25fa2",
   "metadata": {},
   "outputs": [
    {
     "name": "stderr",
     "output_type": "stream",
     "text": [
      "\n",
      "\n",
      "====== WebDriver manager ======\n",
      "Current google-chrome version is 103.0.5060\n",
      "Get LATEST chromedriver version for 103.0.5060 google-chrome\n",
      "Driver [C:\\Users\\josha\\.wdm\\drivers\\chromedriver\\win32\\103.0.5060.53\\chromedriver.exe] found in cache\n"
     ]
    }
   ],
   "source": [
    "# Set up Splinter\n",
    "executable_path = {'executable_path': ChromeDriverManager().install()}\n",
    "browser = Browser('chrome', **executable_path, headless=False)"
   ]
  },
  {
   "cell_type": "code",
   "execution_count": 3,
   "id": "83d58c6b",
   "metadata": {},
   "outputs": [],
   "source": [
    "# Visit the URL to Scrape site\n",
    "url = 'https://www.baseball-reference.com/draft/?year_ID=2015&draft_round=1&draft_type=junreg&query_type=year_round&from_type_jc=0&from_type_hs=0&from_type_4y=0&from_type_unk=0'\n",
    "browser.visit(url)"
   ]
  },
  {
   "cell_type": "code",
   "execution_count": 4,
   "id": "128cd472",
   "metadata": {},
   "outputs": [],
   "source": [
    "# create list to hold the player name and career lengths\n",
    "player_careers = []\n",
    "\n",
    "\n",
    "# Code to retrieve the player name and stats\n",
    "for player in range(5):\n",
    "    \n",
    "    # Optional delay for loading the page\n",
    "    browser.is_element_present_by_css('div.draft_stats', wait_time=8)\n",
    "    \n",
    "    # Click on the player\n",
    "    browser.links.find_by_partial_href(\"/players/\")[player].click()\n",
    "    \n",
    "    # Optional delay for loading the page\n",
    "    browser.is_element_present_by_css('div.inner_nav', wait_time=15)\n",
    "    \n",
    "    # parse with soup\n",
    "    html = browser.html\n",
    "    player_soup = soup(html, 'html.parser')\n",
    "\n",
    "    #identify the player name and career lengths\n",
    "    player_name = player_soup.find(\"h1\").find(\"span\").get_text()\n",
    "    #career_length = \n",
    "        \n",
    "    # create empty dictionary \n",
    "    stats = {}\n",
    "        \n",
    "    #add player names and career lengths to dictionary\n",
    "    stats['player_name'] = player_name\n",
    "    #stats['career_length'] = career_length\n",
    "    player_careers.append(stats)\n",
    "        \n",
    "        \n",
    "    #go back to main homepage\n",
    "    browser.back()\n",
    "        \n"
   ]
  },
  {
   "cell_type": "code",
   "execution_count": 5,
   "id": "909f42f6",
   "metadata": {},
   "outputs": [
    {
     "data": {
      "text/plain": [
       "[{'player_name': 'Dansby Swanson'},\n",
       " {'player_name': 'Alex Bregman'},\n",
       " {'player_name': 'Brendan Rodgers'},\n",
       " {'player_name': 'Dillon Tate'},\n",
       " {'player_name': 'Kyle Tucker'}]"
      ]
     },
     "execution_count": 5,
     "metadata": {},
     "output_type": "execute_result"
    }
   ],
   "source": [
    "player_careers"
   ]
  },
  {
   "cell_type": "code",
   "execution_count": 6,
   "id": "ab7abfa1",
   "metadata": {},
   "outputs": [],
   "source": [
    "browser.quit()"
   ]
  },
  {
   "cell_type": "code",
   "execution_count": null,
   "id": "559ef311",
   "metadata": {},
   "outputs": [],
   "source": []
  },
  {
   "cell_type": "code",
   "execution_count": null,
   "id": "1b478355",
   "metadata": {},
   "outputs": [],
   "source": []
  },
  {
   "cell_type": "code",
   "execution_count": null,
   "id": "51e81ba9",
   "metadata": {},
   "outputs": [],
   "source": []
  },
  {
   "cell_type": "code",
   "execution_count": null,
   "id": "3c374bad",
   "metadata": {},
   "outputs": [],
   "source": [
    "# LM Comments/Questions\n",
    "\n",
    "# 1. I'm getting an error 'Keyword can't be an expression' when I try to search for, \n",
    "# for example, <th data-stat=\"player_stats_summary_explain\"> and get the text, or <tr data-row=\"4\"> \n",
    "# there is error on 'data' but not sure how to get around it"
   ]
  }
 ],
 "metadata": {
  "kernelspec": {
   "display_name": "PythonData",
   "language": "python",
   "name": "pythondata"
  },
  "language_info": {
   "codemirror_mode": {
    "name": "ipython",
    "version": 3
   },
   "file_extension": ".py",
   "mimetype": "text/x-python",
   "name": "python",
   "nbconvert_exporter": "python",
   "pygments_lexer": "ipython3",
   "version": "3.7.13"
  }
 },
 "nbformat": 4,
 "nbformat_minor": 5
}
