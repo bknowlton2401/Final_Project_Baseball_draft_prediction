{
 "cells": [
  {
   "cell_type": "code",
   "execution_count": 1,
   "id": "8de5b833",
   "metadata": {},
   "outputs": [],
   "source": [
    "# import necessary libraries\n",
    "import pandas as pd\n",
    "import os\n",
    "import glob\n",
    "from pathlib import Path"
   ]
  },
  {
   "cell_type": "code",
   "execution_count": 2,
   "id": "9e13e893",
   "metadata": {},
   "outputs": [],
   "source": [
    "folder=\"Resources\""
   ]
  },
  {
   "cell_type": "code",
   "execution_count": 3,
   "id": "0b0f3df7",
   "metadata": {},
   "outputs": [],
   "source": [
    "new_index = []\n",
    "for file in Path(folder).glob('*.csv'):\n",
    "    file=str(file).split('_')\n",
    "    new_index.append(file[1])"
   ]
  },
  {
   "cell_type": "code",
   "execution_count": 4,
   "id": "eae2b0e8",
   "metadata": {},
   "outputs": [
    {
     "data": {
      "text/plain": [
       "['Rutschman',\n",
       " 'Correa',\n",
       " 'Cole',\n",
       " 'Strasburg',\n",
       " 'Hochevar',\n",
       " 'Beckham',\n",
       " 'Harper',\n",
       " 'Price',\n",
       " 'Moniak',\n",
       " 'Torkelson',\n",
       " 'Swanson',\n",
       " 'Lewis',\n",
       " 'Bush',\n",
       " 'Upton',\n",
       " 'Mize']"
      ]
     },
     "execution_count": 4,
     "metadata": {},
     "output_type": "execute_result"
    }
   ],
   "source": [
    "new_index"
   ]
  },
  {
   "cell_type": "code",
   "execution_count": null,
   "id": "8e3efa78",
   "metadata": {},
   "outputs": [],
   "source": []
  },
  {
   "cell_type": "code",
   "execution_count": null,
   "id": "bf6cd65e",
   "metadata": {},
   "outputs": [],
   "source": []
  }
 ],
 "metadata": {
  "kernelspec": {
   "display_name": "Python 3 (ipykernel)",
   "language": "python",
   "name": "python3"
  },
  "language_info": {
   "codemirror_mode": {
    "name": "ipython",
    "version": 3
   },
   "file_extension": ".py",
   "mimetype": "text/x-python",
   "name": "python",
   "nbconvert_exporter": "python",
   "pygments_lexer": "ipython3",
   "version": "3.9.7"
  }
 },
 "nbformat": 4,
 "nbformat_minor": 5
}
